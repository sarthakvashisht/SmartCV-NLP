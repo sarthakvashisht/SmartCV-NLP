{
 "cells": [
  {
   "cell_type": "code",
   "execution_count": 1,
   "metadata": {
    "_cell_guid": "b1076dfc-b9ad-4769-8c92-a6c4dae69d19",
    "_uuid": "8f2839f25d086af736a60e9eeb907d3b93b6e0e5",
    "execution": {
     "iopub.execute_input": "2024-10-11T06:47:55.789401Z",
     "iopub.status.busy": "2024-10-11T06:47:55.788983Z",
     "iopub.status.idle": "2024-10-11T06:47:56.180445Z",
     "shell.execute_reply": "2024-10-11T06:47:56.179551Z",
     "shell.execute_reply.started": "2024-10-11T06:47:55.789356Z"
    },
    "metadata": {}
   },
   "outputs": [
    {
     "name": "stdout",
     "output_type": "stream",
     "text": [
      "Requirement already satisfied: scikit-learn in c:\\users\\dell india\\appdata\\local\\programs\\python\\python311\\lib\\site-packages (1.5.2)\n",
      "Requirement already satisfied: numpy>=1.19.5 in c:\\users\\dell india\\appdata\\local\\programs\\python\\python311\\lib\\site-packages (from scikit-learn) (1.26.1)\n",
      "Requirement already satisfied: scipy>=1.6.0 in c:\\users\\dell india\\appdata\\local\\programs\\python\\python311\\lib\\site-packages (from scikit-learn) (1.11.3)\n",
      "Requirement already satisfied: joblib>=1.2.0 in c:\\users\\dell india\\appdata\\local\\programs\\python\\python311\\lib\\site-packages (from scikit-learn) (1.4.2)\n",
      "Requirement already satisfied: threadpoolctl>=3.1.0 in c:\\users\\dell india\\appdata\\local\\programs\\python\\python311\\lib\\site-packages (from scikit-learn) (3.5.0)\n"
     ]
    },
    {
     "name": "stderr",
     "output_type": "stream",
     "text": [
      "\n",
      "[notice] A new release of pip is available: 23.1.2 -> 24.3.1\n",
      "[notice] To update, run: python.exe -m pip install --upgrade pip\n"
     ]
    }
   ],
   "source": [
    "# This Python 3 environment comes with many helpful analytics libraries installed\n",
    "# It is defined by the kaggle/python Docker image: https://github.com/kaggle/docker-python\n",
    "# For example, here's several helpful packages to load\n",
    "\n",
    "import numpy as np # linear algebra\n",
    "import pandas as pd # data processing, CSV file I/O (e.g. pd.read_csv)\n",
    "!pip install scikit-learn\n",
    "# Input data files are available in the read-only \"../input/\" directory\n",
    "# For example, running this (by clicking run or pressing Shift+Enter) will list all files under the input directory\n",
    "\n",
    "# import os\n",
    "# for dirname, _, filenames in os.walk('/kaggle/input'):\n",
    "#     for filename in filenames:\n",
    "#         print(os.path.join(dirname, filename))\n",
    "\n",
    "# You can write up to 20GB to the current directory (/kaggle/working/) that gets preserved as output when you create a version using \"Save & Run All\" \n",
    "# You can also write temporary files to /kaggle/temp/, but they won't be saved outside of the current session"
   ]
  },
  {
   "cell_type": "code",
   "execution_count": 2,
   "metadata": {
    "execution": {
     "iopub.execute_input": "2024-10-11T06:51:25.206891Z",
     "iopub.status.busy": "2024-10-11T06:51:25.206486Z",
     "iopub.status.idle": "2024-10-11T06:51:25.434581Z",
     "shell.execute_reply": "2024-10-11T06:51:25.433489Z",
     "shell.execute_reply.started": "2024-10-11T06:51:25.206853Z"
    },
    "metadata": {}
   },
   "outputs": [
    {
     "data": {
      "text/html": [
       "<div>\n",
       "<style scoped>\n",
       "    .dataframe tbody tr th:only-of-type {\n",
       "        vertical-align: middle;\n",
       "    }\n",
       "\n",
       "    .dataframe tbody tr th {\n",
       "        vertical-align: top;\n",
       "    }\n",
       "\n",
       "    .dataframe thead th {\n",
       "        text-align: right;\n",
       "    }\n",
       "</style>\n",
       "<table border=\"1\" class=\"dataframe\">\n",
       "  <thead>\n",
       "    <tr style=\"text-align: right;\">\n",
       "      <th></th>\n",
       "      <th>Resume_str</th>\n",
       "      <th>Unnamed: 1</th>\n",
       "      <th>Category</th>\n",
       "    </tr>\n",
       "  </thead>\n",
       "  <tbody>\n",
       "    <tr>\n",
       "      <th>0</th>\n",
       "      <td>HR ADMINISTRATOR/MARKETING ASSOCIATE\\...</td>\n",
       "      <td>NaN</td>\n",
       "      <td>HR</td>\n",
       "    </tr>\n",
       "    <tr>\n",
       "      <th>1</th>\n",
       "      <td>HR SPECIALIST, US HR OPERATIONS      ...</td>\n",
       "      <td>NaN</td>\n",
       "      <td>HR</td>\n",
       "    </tr>\n",
       "    <tr>\n",
       "      <th>2</th>\n",
       "      <td>HR DIRECTOR       Summary      Over 2...</td>\n",
       "      <td>NaN</td>\n",
       "      <td>HR</td>\n",
       "    </tr>\n",
       "    <tr>\n",
       "      <th>3</th>\n",
       "      <td>HR SPECIALIST       Summary    Dedica...</td>\n",
       "      <td>NaN</td>\n",
       "      <td>HR</td>\n",
       "    </tr>\n",
       "    <tr>\n",
       "      <th>4</th>\n",
       "      <td>HR MANAGER         Skill Highlights  ...</td>\n",
       "      <td>NaN</td>\n",
       "      <td>HR</td>\n",
       "    </tr>\n",
       "  </tbody>\n",
       "</table>\n",
       "</div>"
      ],
      "text/plain": [
       "                                          Resume_str  Unnamed: 1 Category\n",
       "0           HR ADMINISTRATOR/MARKETING ASSOCIATE\\...         NaN       HR\n",
       "1           HR SPECIALIST, US HR OPERATIONS      ...         NaN       HR\n",
       "2           HR DIRECTOR       Summary      Over 2...         NaN       HR\n",
       "3           HR SPECIALIST       Summary    Dedica...         NaN       HR\n",
       "4           HR MANAGER         Skill Highlights  ...         NaN       HR"
      ]
     },
     "execution_count": 2,
     "metadata": {},
     "output_type": "execute_result"
    }
   ],
   "source": [
    "df=pd.read_csv('Resume.csv')\n",
    "df.head()"
   ]
  },
  {
   "cell_type": "code",
   "execution_count": 3,
   "metadata": {
    "execution": {
     "iopub.execute_input": "2024-10-11T06:51:27.311483Z",
     "iopub.status.busy": "2024-10-11T06:51:27.311022Z",
     "iopub.status.idle": "2024-10-11T06:51:27.324619Z",
     "shell.execute_reply": "2024-10-11T06:51:27.323463Z",
     "shell.execute_reply.started": "2024-10-11T06:51:27.311429Z"
    },
    "metadata": {}
   },
   "outputs": [
    {
     "data": {
      "text/html": [
       "<div>\n",
       "<style scoped>\n",
       "    .dataframe tbody tr th:only-of-type {\n",
       "        vertical-align: middle;\n",
       "    }\n",
       "\n",
       "    .dataframe tbody tr th {\n",
       "        vertical-align: top;\n",
       "    }\n",
       "\n",
       "    .dataframe thead th {\n",
       "        text-align: right;\n",
       "    }\n",
       "</style>\n",
       "<table border=\"1\" class=\"dataframe\">\n",
       "  <thead>\n",
       "    <tr style=\"text-align: right;\">\n",
       "      <th></th>\n",
       "      <th>Resume_str</th>\n",
       "      <th>Unnamed: 1</th>\n",
       "      <th>Category</th>\n",
       "    </tr>\n",
       "  </thead>\n",
       "  <tbody>\n",
       "    <tr>\n",
       "      <th>0</th>\n",
       "      <td>HR ADMINISTRATOR/MARKETING ASSOCIATE\\...</td>\n",
       "      <td>NaN</td>\n",
       "      <td>HR</td>\n",
       "    </tr>\n",
       "    <tr>\n",
       "      <th>1</th>\n",
       "      <td>HR SPECIALIST, US HR OPERATIONS      ...</td>\n",
       "      <td>NaN</td>\n",
       "      <td>HR</td>\n",
       "    </tr>\n",
       "    <tr>\n",
       "      <th>2</th>\n",
       "      <td>HR DIRECTOR       Summary      Over 2...</td>\n",
       "      <td>NaN</td>\n",
       "      <td>HR</td>\n",
       "    </tr>\n",
       "    <tr>\n",
       "      <th>3</th>\n",
       "      <td>HR SPECIALIST       Summary    Dedica...</td>\n",
       "      <td>NaN</td>\n",
       "      <td>HR</td>\n",
       "    </tr>\n",
       "    <tr>\n",
       "      <th>4</th>\n",
       "      <td>HR MANAGER         Skill Highlights  ...</td>\n",
       "      <td>NaN</td>\n",
       "      <td>HR</td>\n",
       "    </tr>\n",
       "  </tbody>\n",
       "</table>\n",
       "</div>"
      ],
      "text/plain": [
       "                                          Resume_str  Unnamed: 1 Category\n",
       "0           HR ADMINISTRATOR/MARKETING ASSOCIATE\\...         NaN       HR\n",
       "1           HR SPECIALIST, US HR OPERATIONS      ...         NaN       HR\n",
       "2           HR DIRECTOR       Summary      Over 2...         NaN       HR\n",
       "3           HR SPECIALIST       Summary    Dedica...         NaN       HR\n",
       "4           HR MANAGER         Skill Highlights  ...         NaN       HR"
      ]
     },
     "execution_count": 3,
     "metadata": {},
     "output_type": "execute_result"
    }
   ],
   "source": [
    "df.drop(df.iloc[:, 3:], inplace=True, axis=1)\n",
    "df.head()"
   ]
  },
  {
   "cell_type": "code",
   "execution_count": 4,
   "metadata": {
    "execution": {
     "iopub.execute_input": "2024-10-11T06:51:29.857196Z",
     "iopub.status.busy": "2024-10-11T06:51:29.856277Z",
     "iopub.status.idle": "2024-10-11T06:51:29.868682Z",
     "shell.execute_reply": "2024-10-11T06:51:29.867421Z",
     "shell.execute_reply.started": "2024-10-11T06:51:29.857149Z"
    },
    "metadata": {}
   },
   "outputs": [
    {
     "data": {
      "text/html": [
       "<div>\n",
       "<style scoped>\n",
       "    .dataframe tbody tr th:only-of-type {\n",
       "        vertical-align: middle;\n",
       "    }\n",
       "\n",
       "    .dataframe tbody tr th {\n",
       "        vertical-align: top;\n",
       "    }\n",
       "\n",
       "    .dataframe thead th {\n",
       "        text-align: right;\n",
       "    }\n",
       "</style>\n",
       "<table border=\"1\" class=\"dataframe\">\n",
       "  <thead>\n",
       "    <tr style=\"text-align: right;\">\n",
       "      <th></th>\n",
       "      <th>Resume_str</th>\n",
       "      <th>Category</th>\n",
       "    </tr>\n",
       "  </thead>\n",
       "  <tbody>\n",
       "    <tr>\n",
       "      <th>0</th>\n",
       "      <td>HR ADMINISTRATOR/MARKETING ASSOCIATE\\...</td>\n",
       "      <td>HR</td>\n",
       "    </tr>\n",
       "    <tr>\n",
       "      <th>1</th>\n",
       "      <td>HR SPECIALIST, US HR OPERATIONS      ...</td>\n",
       "      <td>HR</td>\n",
       "    </tr>\n",
       "    <tr>\n",
       "      <th>2</th>\n",
       "      <td>HR DIRECTOR       Summary      Over 2...</td>\n",
       "      <td>HR</td>\n",
       "    </tr>\n",
       "    <tr>\n",
       "      <th>3</th>\n",
       "      <td>HR SPECIALIST       Summary    Dedica...</td>\n",
       "      <td>HR</td>\n",
       "    </tr>\n",
       "    <tr>\n",
       "      <th>4</th>\n",
       "      <td>HR MANAGER         Skill Highlights  ...</td>\n",
       "      <td>HR</td>\n",
       "    </tr>\n",
       "  </tbody>\n",
       "</table>\n",
       "</div>"
      ],
      "text/plain": [
       "                                          Resume_str Category\n",
       "0           HR ADMINISTRATOR/MARKETING ASSOCIATE\\...       HR\n",
       "1           HR SPECIALIST, US HR OPERATIONS      ...       HR\n",
       "2           HR DIRECTOR       Summary      Over 2...       HR\n",
       "3           HR SPECIALIST       Summary    Dedica...       HR\n",
       "4           HR MANAGER         Skill Highlights  ...       HR"
      ]
     },
     "execution_count": 4,
     "metadata": {},
     "output_type": "execute_result"
    }
   ],
   "source": [
    "df.drop(df.iloc[:, 1:2], inplace=True, axis=1)\n",
    "df.head()"
   ]
  },
  {
   "cell_type": "code",
   "execution_count": 5,
   "metadata": {
    "execution": {
     "iopub.execute_input": "2024-10-11T06:51:31.721448Z",
     "iopub.status.busy": "2024-10-11T06:51:31.721009Z",
     "iopub.status.idle": "2024-10-11T06:51:31.728411Z",
     "shell.execute_reply": "2024-10-11T06:51:31.727363Z",
     "shell.execute_reply.started": "2024-10-11T06:51:31.721408Z"
    },
    "metadata": {}
   },
   "outputs": [
    {
     "data": {
      "text/plain": [
       "(2456, 2)"
      ]
     },
     "execution_count": 5,
     "metadata": {},
     "output_type": "execute_result"
    }
   ],
   "source": [
    "df.shape"
   ]
  },
  {
   "cell_type": "code",
   "execution_count": 6,
   "metadata": {
    "execution": {
     "iopub.execute_input": "2024-10-11T06:51:34.173568Z",
     "iopub.status.busy": "2024-10-11T06:51:34.173163Z",
     "iopub.status.idle": "2024-10-11T06:51:34.207138Z",
     "shell.execute_reply": "2024-10-11T06:51:34.206040Z",
     "shell.execute_reply.started": "2024-10-11T06:51:34.173529Z"
    },
    "metadata": {}
   },
   "outputs": [
    {
     "data": {
      "text/html": [
       "<div>\n",
       "<style scoped>\n",
       "    .dataframe tbody tr th:only-of-type {\n",
       "        vertical-align: middle;\n",
       "    }\n",
       "\n",
       "    .dataframe tbody tr th {\n",
       "        vertical-align: top;\n",
       "    }\n",
       "\n",
       "    .dataframe thead th {\n",
       "        text-align: right;\n",
       "    }\n",
       "</style>\n",
       "<table border=\"1\" class=\"dataframe\">\n",
       "  <thead>\n",
       "    <tr style=\"text-align: right;\">\n",
       "      <th></th>\n",
       "      <th>Resume_str</th>\n",
       "      <th>Category</th>\n",
       "    </tr>\n",
       "  </thead>\n",
       "  <tbody>\n",
       "    <tr>\n",
       "      <th>count</th>\n",
       "      <td>2456</td>\n",
       "      <td>2456</td>\n",
       "    </tr>\n",
       "    <tr>\n",
       "      <th>unique</th>\n",
       "      <td>2454</td>\n",
       "      <td>24</td>\n",
       "    </tr>\n",
       "    <tr>\n",
       "      <th>top</th>\n",
       "      <td>STOREKEEPER II       Professional Sum...</td>\n",
       "      <td>INFORMATION-TECHNOLOGY</td>\n",
       "    </tr>\n",
       "    <tr>\n",
       "      <th>freq</th>\n",
       "      <td>2</td>\n",
       "      <td>119</td>\n",
       "    </tr>\n",
       "  </tbody>\n",
       "</table>\n",
       "</div>"
      ],
      "text/plain": [
       "                                               Resume_str  \\\n",
       "count                                                2456   \n",
       "unique                                               2454   \n",
       "top              STOREKEEPER II       Professional Sum...   \n",
       "freq                                                    2   \n",
       "\n",
       "                      Category  \n",
       "count                     2456  \n",
       "unique                      24  \n",
       "top     INFORMATION-TECHNOLOGY  \n",
       "freq                       119  "
      ]
     },
     "execution_count": 6,
     "metadata": {},
     "output_type": "execute_result"
    }
   ],
   "source": [
    "df.describe()"
   ]
  },
  {
   "cell_type": "code",
   "execution_count": 7,
   "metadata": {
    "execution": {
     "iopub.execute_input": "2024-10-11T06:51:36.631267Z",
     "iopub.status.busy": "2024-10-11T06:51:36.630327Z",
     "iopub.status.idle": "2024-10-11T06:51:36.642209Z",
     "shell.execute_reply": "2024-10-11T06:51:36.640841Z",
     "shell.execute_reply.started": "2024-10-11T06:51:36.631219Z"
    },
    "metadata": {}
   },
   "outputs": [
    {
     "name": "stdout",
     "output_type": "stream",
     "text": [
      "<class 'pandas.core.frame.DataFrame'>\n",
      "RangeIndex: 2456 entries, 0 to 2455\n",
      "Data columns (total 2 columns):\n",
      " #   Column      Non-Null Count  Dtype \n",
      "---  ------      --------------  ----- \n",
      " 0   Resume_str  2456 non-null   object\n",
      " 1   Category    2456 non-null   object\n",
      "dtypes: object(2)\n",
      "memory usage: 38.5+ KB\n"
     ]
    }
   ],
   "source": [
    "df.info()"
   ]
  },
  {
   "cell_type": "code",
   "execution_count": 8,
   "metadata": {
    "execution": {
     "iopub.execute_input": "2024-10-11T06:51:41.212432Z",
     "iopub.status.busy": "2024-10-11T06:51:41.211404Z",
     "iopub.status.idle": "2024-10-11T06:51:41.223079Z",
     "shell.execute_reply": "2024-10-11T06:51:41.221859Z",
     "shell.execute_reply.started": "2024-10-11T06:51:41.212383Z"
    },
    "metadata": {}
   },
   "outputs": [
    {
     "data": {
      "text/html": [
       "<div>\n",
       "<style scoped>\n",
       "    .dataframe tbody tr th:only-of-type {\n",
       "        vertical-align: middle;\n",
       "    }\n",
       "\n",
       "    .dataframe tbody tr th {\n",
       "        vertical-align: top;\n",
       "    }\n",
       "\n",
       "    .dataframe thead th {\n",
       "        text-align: right;\n",
       "    }\n",
       "</style>\n",
       "<table border=\"1\" class=\"dataframe\">\n",
       "  <thead>\n",
       "    <tr style=\"text-align: right;\">\n",
       "      <th></th>\n",
       "      <th>Content</th>\n",
       "      <th>Category</th>\n",
       "    </tr>\n",
       "  </thead>\n",
       "  <tbody>\n",
       "    <tr>\n",
       "      <th>0</th>\n",
       "      <td>HR ADMINISTRATOR/MARKETING ASSOCIATE\\...</td>\n",
       "      <td>HR</td>\n",
       "    </tr>\n",
       "    <tr>\n",
       "      <th>1</th>\n",
       "      <td>HR SPECIALIST, US HR OPERATIONS      ...</td>\n",
       "      <td>HR</td>\n",
       "    </tr>\n",
       "    <tr>\n",
       "      <th>2</th>\n",
       "      <td>HR DIRECTOR       Summary      Over 2...</td>\n",
       "      <td>HR</td>\n",
       "    </tr>\n",
       "    <tr>\n",
       "      <th>3</th>\n",
       "      <td>HR SPECIALIST       Summary    Dedica...</td>\n",
       "      <td>HR</td>\n",
       "    </tr>\n",
       "    <tr>\n",
       "      <th>4</th>\n",
       "      <td>HR MANAGER         Skill Highlights  ...</td>\n",
       "      <td>HR</td>\n",
       "    </tr>\n",
       "  </tbody>\n",
       "</table>\n",
       "</div>"
      ],
      "text/plain": [
       "                                             Content Category\n",
       "0           HR ADMINISTRATOR/MARKETING ASSOCIATE\\...       HR\n",
       "1           HR SPECIALIST, US HR OPERATIONS      ...       HR\n",
       "2           HR DIRECTOR       Summary      Over 2...       HR\n",
       "3           HR SPECIALIST       Summary    Dedica...       HR\n",
       "4           HR MANAGER         Skill Highlights  ...       HR"
      ]
     },
     "execution_count": 8,
     "metadata": {},
     "output_type": "execute_result"
    }
   ],
   "source": [
    "df.rename(columns={'Resume_str': 'Content'}, inplace=True)\n",
    "df.head()"
   ]
  },
  {
   "cell_type": "code",
   "execution_count": 9,
   "metadata": {
    "execution": {
     "iopub.execute_input": "2024-10-11T07:05:53.687738Z",
     "iopub.status.busy": "2024-10-11T07:05:53.687241Z",
     "iopub.status.idle": "2024-10-11T07:05:53.695302Z",
     "shell.execute_reply": "2024-10-11T07:05:53.693737Z",
     "shell.execute_reply.started": "2024-10-11T07:05:53.687697Z"
    },
    "metadata": {}
   },
   "outputs": [],
   "source": [
    "import re\n",
    "def clean_text(text):\n",
    "    cleantext = re.sub(r'http\\S+|www\\S+|https\\S+', '', text, flags=re.MULTILINE)\n",
    "    cleantext = re.sub(r'\\S+@\\S+', '', cleantext)\n",
    "    cleantext = re.sub(r'[^A-Za-z0-9\\s]', '', cleantext)\n",
    "    cleantext = re.sub(r'\\d+', '', cleantext)\n",
    "    cleantext = re.sub(r'\\s+', ' ', cleantext).strip()\n",
    "    return cleantext"
   ]
  },
  {
   "cell_type": "code",
   "execution_count": 10,
   "metadata": {
    "execution": {
     "iopub.execute_input": "2024-10-11T07:06:02.208401Z",
     "iopub.status.busy": "2024-10-11T07:06:02.206968Z",
     "iopub.status.idle": "2024-10-11T07:06:04.424794Z",
     "shell.execute_reply": "2024-10-11T07:06:04.423677Z",
     "shell.execute_reply.started": "2024-10-11T07:06:02.208323Z"
    },
    "metadata": {}
   },
   "outputs": [
    {
     "data": {
      "text/html": [
       "<div>\n",
       "<style scoped>\n",
       "    .dataframe tbody tr th:only-of-type {\n",
       "        vertical-align: middle;\n",
       "    }\n",
       "\n",
       "    .dataframe tbody tr th {\n",
       "        vertical-align: top;\n",
       "    }\n",
       "\n",
       "    .dataframe thead th {\n",
       "        text-align: right;\n",
       "    }\n",
       "</style>\n",
       "<table border=\"1\" class=\"dataframe\">\n",
       "  <thead>\n",
       "    <tr style=\"text-align: right;\">\n",
       "      <th></th>\n",
       "      <th>Content</th>\n",
       "      <th>Category</th>\n",
       "    </tr>\n",
       "  </thead>\n",
       "  <tbody>\n",
       "    <tr>\n",
       "      <th>1932</th>\n",
       "      <td>SENIOR CONSTRUCTION MANAGER Summary Constructi...</td>\n",
       "      <td>CONSTRUCTION</td>\n",
       "    </tr>\n",
       "    <tr>\n",
       "      <th>36</th>\n",
       "      <td>HR GENERALIST Summary Human Resource Manager a...</td>\n",
       "      <td>HR</td>\n",
       "    </tr>\n",
       "    <tr>\n",
       "      <th>349</th>\n",
       "      <td>TEACHER Profile I am a highly qualified K Voca...</td>\n",
       "      <td>TEACHER</td>\n",
       "    </tr>\n",
       "    <tr>\n",
       "      <th>2005</th>\n",
       "      <td>LABORER Summary To utilize the knowledge and e...</td>\n",
       "      <td>CONSTRUCTION</td>\n",
       "    </tr>\n",
       "    <tr>\n",
       "      <th>1431</th>\n",
       "      <td>GENERAL MANAGER EXECUTIVE CHEF Summary Dedicat...</td>\n",
       "      <td>CHEF</td>\n",
       "    </tr>\n",
       "    <tr>\n",
       "      <th>652</th>\n",
       "      <td>BUSINESS DEVELOPMENT EXECUTIVE Summary An achi...</td>\n",
       "      <td>BUSINESS-DEVELOPMENT</td>\n",
       "    </tr>\n",
       "    <tr>\n",
       "      <th>768</th>\n",
       "      <td>HOSPITAL PHYSICIAN BILLING SPECIALIST Professi...</td>\n",
       "      <td>HEALTHCARE</td>\n",
       "    </tr>\n",
       "    <tr>\n",
       "      <th>573</th>\n",
       "      <td>BUSINESS DEVELOPMENT LEADER Summary BUSINESS D...</td>\n",
       "      <td>BUSINESS-DEVELOPMENT</td>\n",
       "    </tr>\n",
       "    <tr>\n",
       "      <th>2062</th>\n",
       "      <td>P DIRECTOR INFORMATION SYSTEMS PACS ADMINISTRA...</td>\n",
       "      <td>PUBLIC-RELATIONS</td>\n",
       "    </tr>\n",
       "    <tr>\n",
       "      <th>703</th>\n",
       "      <td>LICENSED UNITED HEALTHCARE INSURANCE SALES AGE...</td>\n",
       "      <td>HEALTHCARE</td>\n",
       "    </tr>\n",
       "    <tr>\n",
       "      <th>2357</th>\n",
       "      <td>AVIATION RECORDS ANALYST Summary Highly organi...</td>\n",
       "      <td>AVIATION</td>\n",
       "    </tr>\n",
       "    <tr>\n",
       "      <th>1562</th>\n",
       "      <td>SR FINANCE MANAGER Summary Finance professiona...</td>\n",
       "      <td>FINANCE</td>\n",
       "    </tr>\n",
       "    <tr>\n",
       "      <th>2394</th>\n",
       "      <td>QUALITY ASSURANCE MANAGER Professional Summary...</td>\n",
       "      <td>AVIATION</td>\n",
       "    </tr>\n",
       "    <tr>\n",
       "      <th>421</th>\n",
       "      <td>TEACHER ASSISTANT Work History Company Name Pr...</td>\n",
       "      <td>TEACHER</td>\n",
       "    </tr>\n",
       "    <tr>\n",
       "      <th>1865</th>\n",
       "      <td>SENIOR ACCOUNTANT Professional Summary Senior ...</td>\n",
       "      <td>ACCOUNTANT</td>\n",
       "    </tr>\n",
       "    <tr>\n",
       "      <th>660</th>\n",
       "      <td>NEW BUSINESS DEVELOPMENT MANAGER Summary BUSIN...</td>\n",
       "      <td>BUSINESS-DEVELOPMENT</td>\n",
       "    </tr>\n",
       "    <tr>\n",
       "      <th>366</th>\n",
       "      <td>TEACHER Summary Teacher with years experience ...</td>\n",
       "      <td>TEACHER</td>\n",
       "    </tr>\n",
       "    <tr>\n",
       "      <th>2200</th>\n",
       "      <td>VP Career Focus To lead the executive manageme...</td>\n",
       "      <td>BANKING</td>\n",
       "    </tr>\n",
       "    <tr>\n",
       "      <th>47</th>\n",
       "      <td>HR CONSULTANT Summary Subject matter expert in...</td>\n",
       "      <td>HR</td>\n",
       "    </tr>\n",
       "    <tr>\n",
       "      <th>1677</th>\n",
       "      <td>ENGINEERING INTERN Summary Candidate with a fi...</td>\n",
       "      <td>ENGINEERING</td>\n",
       "    </tr>\n",
       "  </tbody>\n",
       "</table>\n",
       "</div>"
      ],
      "text/plain": [
       "                                                Content              Category\n",
       "1932  SENIOR CONSTRUCTION MANAGER Summary Constructi...          CONSTRUCTION\n",
       "36    HR GENERALIST Summary Human Resource Manager a...                    HR\n",
       "349   TEACHER Profile I am a highly qualified K Voca...               TEACHER\n",
       "2005  LABORER Summary To utilize the knowledge and e...          CONSTRUCTION\n",
       "1431  GENERAL MANAGER EXECUTIVE CHEF Summary Dedicat...                  CHEF\n",
       "652   BUSINESS DEVELOPMENT EXECUTIVE Summary An achi...  BUSINESS-DEVELOPMENT\n",
       "768   HOSPITAL PHYSICIAN BILLING SPECIALIST Professi...            HEALTHCARE\n",
       "573   BUSINESS DEVELOPMENT LEADER Summary BUSINESS D...  BUSINESS-DEVELOPMENT\n",
       "2062  P DIRECTOR INFORMATION SYSTEMS PACS ADMINISTRA...      PUBLIC-RELATIONS\n",
       "703   LICENSED UNITED HEALTHCARE INSURANCE SALES AGE...            HEALTHCARE\n",
       "2357  AVIATION RECORDS ANALYST Summary Highly organi...              AVIATION\n",
       "1562  SR FINANCE MANAGER Summary Finance professiona...               FINANCE\n",
       "2394  QUALITY ASSURANCE MANAGER Professional Summary...              AVIATION\n",
       "421   TEACHER ASSISTANT Work History Company Name Pr...               TEACHER\n",
       "1865  SENIOR ACCOUNTANT Professional Summary Senior ...            ACCOUNTANT\n",
       "660   NEW BUSINESS DEVELOPMENT MANAGER Summary BUSIN...  BUSINESS-DEVELOPMENT\n",
       "366   TEACHER Summary Teacher with years experience ...               TEACHER\n",
       "2200  VP Career Focus To lead the executive manageme...               BANKING\n",
       "47    HR CONSULTANT Summary Subject matter expert in...                    HR\n",
       "1677  ENGINEERING INTERN Summary Candidate with a fi...           ENGINEERING"
      ]
     },
     "execution_count": 10,
     "metadata": {},
     "output_type": "execute_result"
    }
   ],
   "source": [
    "df['Content']=df['Content'].apply(lambda x:clean_text(x))\n",
    "df.sample(20)"
   ]
  },
  {
   "cell_type": "code",
   "execution_count": 11,
   "metadata": {
    "execution": {
     "iopub.execute_input": "2024-10-11T07:07:03.268409Z",
     "iopub.status.busy": "2024-10-11T07:07:03.267965Z",
     "iopub.status.idle": "2024-10-11T07:07:03.303104Z",
     "shell.execute_reply": "2024-10-11T07:07:03.301739Z",
     "shell.execute_reply.started": "2024-10-11T07:07:03.268369Z"
    },
    "metadata": {}
   },
   "outputs": [
    {
     "data": {
      "text/html": [
       "<div>\n",
       "<style scoped>\n",
       "    .dataframe tbody tr th:only-of-type {\n",
       "        vertical-align: middle;\n",
       "    }\n",
       "\n",
       "    .dataframe tbody tr th {\n",
       "        vertical-align: top;\n",
       "    }\n",
       "\n",
       "    .dataframe thead th {\n",
       "        text-align: right;\n",
       "    }\n",
       "</style>\n",
       "<table border=\"1\" class=\"dataframe\">\n",
       "  <thead>\n",
       "    <tr style=\"text-align: right;\">\n",
       "      <th></th>\n",
       "      <th>Content</th>\n",
       "      <th>Category</th>\n",
       "    </tr>\n",
       "  </thead>\n",
       "  <tbody>\n",
       "    <tr>\n",
       "      <th>232</th>\n",
       "      <td>information technology specialistsystem analys...</td>\n",
       "      <td>information-technology</td>\n",
       "    </tr>\n",
       "    <tr>\n",
       "      <th>195</th>\n",
       "      <td>creative graphic designer summary after review...</td>\n",
       "      <td>designer</td>\n",
       "    </tr>\n",
       "    <tr>\n",
       "      <th>1686</th>\n",
       "      <td>s engineering instructor summary seeking an in...</td>\n",
       "      <td>engineering</td>\n",
       "    </tr>\n",
       "    <tr>\n",
       "      <th>1231</th>\n",
       "      <td>substitute teacher summary enthusiastic artist...</td>\n",
       "      <td>digital-media</td>\n",
       "    </tr>\n",
       "    <tr>\n",
       "      <th>478</th>\n",
       "      <td>customer service advocate professional summary...</td>\n",
       "      <td>advocate</td>\n",
       "    </tr>\n",
       "    <tr>\n",
       "      <th>660</th>\n",
       "      <td>new business development manager summary busin...</td>\n",
       "      <td>business-development</td>\n",
       "    </tr>\n",
       "    <tr>\n",
       "      <th>1397</th>\n",
       "      <td>coownermanager chef professional summary thank...</td>\n",
       "      <td>chef</td>\n",
       "    </tr>\n",
       "    <tr>\n",
       "      <th>2323</th>\n",
       "      <td>college assistant summary professional leader ...</td>\n",
       "      <td>arts</td>\n",
       "    </tr>\n",
       "    <tr>\n",
       "      <th>2439</th>\n",
       "      <td>supply chain manager summary operations manage...</td>\n",
       "      <td>aviation</td>\n",
       "    </tr>\n",
       "    <tr>\n",
       "      <th>1616</th>\n",
       "      <td>buyerplanner summary detailoriented analytical...</td>\n",
       "      <td>apparel</td>\n",
       "    </tr>\n",
       "  </tbody>\n",
       "</table>\n",
       "</div>"
      ],
      "text/plain": [
       "                                                Content  \\\n",
       "232   information technology specialistsystem analys...   \n",
       "195   creative graphic designer summary after review...   \n",
       "1686  s engineering instructor summary seeking an in...   \n",
       "1231  substitute teacher summary enthusiastic artist...   \n",
       "478   customer service advocate professional summary...   \n",
       "660   new business development manager summary busin...   \n",
       "1397  coownermanager chef professional summary thank...   \n",
       "2323  college assistant summary professional leader ...   \n",
       "2439  supply chain manager summary operations manage...   \n",
       "1616  buyerplanner summary detailoriented analytical...   \n",
       "\n",
       "                    Category  \n",
       "232   information-technology  \n",
       "195                 designer  \n",
       "1686             engineering  \n",
       "1231           digital-media  \n",
       "478                 advocate  \n",
       "660     business-development  \n",
       "1397                    chef  \n",
       "2323                    arts  \n",
       "2439                aviation  \n",
       "1616                 apparel  "
      ]
     },
     "execution_count": 11,
     "metadata": {},
     "output_type": "execute_result"
    }
   ],
   "source": [
    "df['Category'] = df['Category'].str.lower()\n",
    "df['Content'] = df['Content'].str.lower()\n",
    "df.sample(10)"
   ]
  },
  {
   "cell_type": "code",
   "execution_count": 12,
   "metadata": {
    "execution": {
     "iopub.execute_input": "2024-10-11T07:08:34.342695Z",
     "iopub.status.busy": "2024-10-11T07:08:34.341160Z",
     "iopub.status.idle": "2024-10-11T07:08:34.358677Z",
     "shell.execute_reply": "2024-10-11T07:08:34.357162Z",
     "shell.execute_reply.started": "2024-10-11T07:08:34.342624Z"
    },
    "metadata": {}
   },
   "outputs": [
    {
     "data": {
      "text/html": [
       "<div>\n",
       "<style scoped>\n",
       "    .dataframe tbody tr th:only-of-type {\n",
       "        vertical-align: middle;\n",
       "    }\n",
       "\n",
       "    .dataframe tbody tr th {\n",
       "        vertical-align: top;\n",
       "    }\n",
       "\n",
       "    .dataframe thead th {\n",
       "        text-align: right;\n",
       "    }\n",
       "</style>\n",
       "<table border=\"1\" class=\"dataframe\">\n",
       "  <thead>\n",
       "    <tr style=\"text-align: right;\">\n",
       "      <th></th>\n",
       "      <th>Content</th>\n",
       "      <th>Category</th>\n",
       "    </tr>\n",
       "  </thead>\n",
       "  <tbody>\n",
       "    <tr>\n",
       "      <th>2440</th>\n",
       "      <td>entrepreneur general manager summary over year...</td>\n",
       "      <td>6</td>\n",
       "    </tr>\n",
       "    <tr>\n",
       "      <th>1570</th>\n",
       "      <td>senior accountant finance controller summary a...</td>\n",
       "      <td>16</td>\n",
       "    </tr>\n",
       "    <tr>\n",
       "      <th>304</th>\n",
       "      <td>administrative assistant director human resour...</td>\n",
       "      <td>20</td>\n",
       "    </tr>\n",
       "    <tr>\n",
       "      <th>2169</th>\n",
       "      <td>program assistant professional summary program...</td>\n",
       "      <td>7</td>\n",
       "    </tr>\n",
       "    <tr>\n",
       "      <th>1293</th>\n",
       "      <td>digital marketing associate summary dynamic an...</td>\n",
       "      <td>14</td>\n",
       "    </tr>\n",
       "    <tr>\n",
       "      <th>1497</th>\n",
       "      <td>finance director experience finance director t...</td>\n",
       "      <td>16</td>\n",
       "    </tr>\n",
       "    <tr>\n",
       "      <th>432</th>\n",
       "      <td>substitute teacher professional summary enthus...</td>\n",
       "      <td>23</td>\n",
       "    </tr>\n",
       "    <tr>\n",
       "      <th>703</th>\n",
       "      <td>licensed united healthcare insurance sales age...</td>\n",
       "      <td>18</td>\n",
       "    </tr>\n",
       "    <tr>\n",
       "      <th>1818</th>\n",
       "      <td>accountant professional summary i am an enthus...</td>\n",
       "      <td>0</td>\n",
       "    </tr>\n",
       "    <tr>\n",
       "      <th>984</th>\n",
       "      <td>sales summary account manager focused on maxim...</td>\n",
       "      <td>22</td>\n",
       "    </tr>\n",
       "  </tbody>\n",
       "</table>\n",
       "</div>"
      ],
      "text/plain": [
       "                                                Content  Category\n",
       "2440  entrepreneur general manager summary over year...         6\n",
       "1570  senior accountant finance controller summary a...        16\n",
       "304   administrative assistant director human resour...        20\n",
       "2169  program assistant professional summary program...         7\n",
       "1293  digital marketing associate summary dynamic an...        14\n",
       "1497  finance director experience finance director t...        16\n",
       "432   substitute teacher professional summary enthus...        23\n",
       "703   licensed united healthcare insurance sales age...        18\n",
       "1818  accountant professional summary i am an enthus...         0\n",
       "984   sales summary account manager focused on maxim...        22"
      ]
     },
     "execution_count": 12,
     "metadata": {},
     "output_type": "execute_result"
    }
   ],
   "source": [
    "from sklearn.preprocessing import LabelEncoder\n",
    "le= LabelEncoder()\n",
    "le.fit(df['Category'])\n",
    "df['Category']=le.transform(df['Category'])\n",
    "df.sample(10)"
   ]
  },
  {
   "cell_type": "code",
   "execution_count": 13,
   "metadata": {
    "execution": {
     "iopub.execute_input": "2024-10-11T07:09:02.734034Z",
     "iopub.status.busy": "2024-10-11T07:09:02.733605Z",
     "iopub.status.idle": "2024-10-11T07:09:02.742897Z",
     "shell.execute_reply": "2024-10-11T07:09:02.741855Z",
     "shell.execute_reply.started": "2024-10-11T07:09:02.733993Z"
    }
   },
   "outputs": [
    {
     "data": {
      "text/plain": [
       "array([19, 13, 20, 23,  1,  9, 18, 17,  2,  8, 22, 12, 14,  5, 10, 16,  3,\n",
       "       15,  0, 11, 21,  7,  4,  6])"
      ]
     },
     "execution_count": 13,
     "metadata": {},
     "output_type": "execute_result"
    }
   ],
   "source": [
    "df['Category'].unique()"
   ]
  },
  {
   "cell_type": "code",
   "execution_count": 14,
   "metadata": {
    "execution": {
     "iopub.execute_input": "2024-10-11T07:10:37.160354Z",
     "iopub.status.busy": "2024-10-11T07:10:37.159823Z",
     "iopub.status.idle": "2024-10-11T07:10:40.120525Z",
     "shell.execute_reply": "2024-10-11T07:10:40.119406Z",
     "shell.execute_reply.started": "2024-10-11T07:10:37.160312Z"
    }
   },
   "outputs": [
    {
     "data": {
      "text/plain": [
       "<2456x48058 sparse matrix of type '<class 'numpy.float64'>'\n",
       "\twith 755258 stored elements in Compressed Sparse Row format>"
      ]
     },
     "execution_count": 14,
     "metadata": {},
     "output_type": "execute_result"
    }
   ],
   "source": [
    "from sklearn.feature_extraction.text import TfidfVectorizer\n",
    "tfidf=TfidfVectorizer(stop_words='english')\n",
    "tfidf.fit(df['Content'])\n",
    "vectorised=tfidf.transform(df['Content'])\n",
    "vectorised"
   ]
  },
  {
   "cell_type": "code",
   "execution_count": 15,
   "metadata": {
    "execution": {
     "iopub.execute_input": "2024-10-11T07:17:30.694438Z",
     "iopub.status.busy": "2024-10-11T07:17:30.694004Z",
     "iopub.status.idle": "2024-10-11T07:17:30.712452Z",
     "shell.execute_reply": "2024-10-11T07:17:30.711379Z",
     "shell.execute_reply.started": "2024-10-11T07:17:30.694399Z"
    }
   },
   "outputs": [
    {
     "name": "stdout",
     "output_type": "stream",
     "text": [
      "Requirement already satisfied: xgboost in c:\\users\\dell india\\appdata\\local\\programs\\python\\python311\\lib\\site-packages (2.1.1)\n",
      "Requirement already satisfied: numpy in c:\\users\\dell india\\appdata\\local\\programs\\python\\python311\\lib\\site-packages (from xgboost) (1.26.1)\n",
      "Requirement already satisfied: scipy in c:\\users\\dell india\\appdata\\local\\programs\\python\\python311\\lib\\site-packages (from xgboost) (1.11.3)\n"
     ]
    },
    {
     "name": "stderr",
     "output_type": "stream",
     "text": [
      "\n",
      "[notice] A new release of pip is available: 23.1.2 -> 24.3.1\n",
      "[notice] To update, run: python.exe -m pip install --upgrade pip\n"
     ]
    }
   ],
   "source": [
    "!pip install xgboost\n",
    "from sklearn.model_selection import train_test_split\n",
    "from sklearn.metrics import accuracy_score"
   ]
  },
  {
   "cell_type": "code",
   "execution_count": 16,
   "metadata": {
    "execution": {
     "iopub.execute_input": "2024-10-11T07:32:31.731811Z",
     "iopub.status.busy": "2024-10-11T07:32:31.731267Z",
     "iopub.status.idle": "2024-10-11T07:50:52.593758Z",
     "shell.execute_reply": "2024-10-11T07:50:52.591779Z",
     "shell.execute_reply.started": "2024-10-11T07:32:31.731763Z"
    }
   },
   "outputs": [
    {
     "name": "stdout",
     "output_type": "stream",
     "text": [
      "XGBoost: 78.25%\n",
      "########################################\n"
     ]
    }
   ],
   "source": [
    "\n",
    "from sklearn.linear_model import LogisticRegression\n",
    "from sklearn.linear_model import SGDClassifier\n",
    "from xgboost import XGBClassifier\n",
    "\n",
    "\n",
    "X=vectorised\n",
    "y=df['Category']\n",
    "models = {\n",
    "    # \"Logistic Regression\": LogisticRegression(max_iter=2000000,penalty='l1',\n",
    "    # C=1.0,\n",
    "    # solver='saga',\n",
    "    # tol=1e-9),\n",
    "    #\"Gradient Descent (SGD)\": SGDClassifier(max_iter=100000000, tol=1e-9,learning_rate='adaptive', eta0=0.05),\n",
    "    \"XGBoost\": XGBClassifier(eval_metric='mlogloss',booster='gbtree',\n",
    "    eta=0.085,\n",
    "    max_depth=10,\n",
    "    min_child_weight=1,\n",
    "    gamma=0.1,\n",
    "    subsample=0.8,\n",
    "    colsample_bytree=0.8,\n",
    "    alpha=0)\n",
    "    \n",
    "}\n",
    "\n",
    "\n",
    "X_train, X_test, y_train, y_test = train_test_split(X, y, test_size=0.2, random_state=42)\n",
    "for model_name, model in models.items():\n",
    "    model.fit(X_train, y_train)\n",
    "    y_pred = model.predict(X_test)\n",
    "    accuracy = accuracy_score(y_test, y_pred)\n",
    "    print(f\"{model_name}: {accuracy * 100:.2f}%\")\n",
    "    print(\"########################################\")"
   ]
  },
  {
   "cell_type": "code",
   "execution_count": null,
   "metadata": {},
   "outputs": [
    {
     "name": "stdout",
     "output_type": "stream",
     "text": [
      "Fitting 3 folds for each of 2187 candidates, totalling 6561 fits\n"
     ]
    }
   ],
   "source": [
    "from sklearn.model_selection import train_test_split, GridSearchCV\n",
    "from xgboost import XGBClassifier\n",
    "from sklearn.metrics import accuracy_score\n",
    "\n",
    "# Splitting the data\n",
    "X_train, X_test, y_train, y_test = train_test_split(X, y, test_size=0.2, random_state=42)\n",
    "\n",
    "# Defining the model\n",
    "xgb_model = XGBClassifier(eval_metric='mlogloss', booster='gbtree')\n",
    "\n",
    "# Defining the parameter grid\n",
    "param_grid = {\n",
    "    'eta': [0.09, 0.05, 0.085],\n",
    "    'max_depth': [6, 8, 10],\n",
    "    'min_child_weight': [1, 3, 5],\n",
    "    'gamma': [0, 0.1, 0.2],\n",
    "    'subsample': [0.6, 0.8, 1.0],\n",
    "    'colsample_bytree': [0.6, 0.8, 1.0],\n",
    "    'alpha': [0, 0.1, 1]\n",
    "}\n",
    "\n",
    "# Setting up GridSearchCV\n",
    "grid_search = GridSearchCV(estimator=xgb_model, param_grid=param_grid, scoring='accuracy', cv=3, verbose=1, n_jobs=-1)\n",
    "\n",
    "# Fitting the model\n",
    "grid_search.fit(X_train, y_train)\n",
    "\n",
    "# Best parameters and accuracy\n",
    "best_params = grid_search.best_params_\n",
    "best_model = grid_search.best_estimator_\n",
    "y_pred = best_model.predict(X_test)\n",
    "accuracy = accuracy_score(y_test, y_pred)\n",
    "\n",
    "print(f\"Best Parameters: {best_params}\")\n",
    "print(f\"Accuracy: {accuracy * 100:.2f}%\")\n"
   ]
  },
  {
   "cell_type": "code",
   "execution_count": null,
   "metadata": {},
   "outputs": [],
   "source": [
    "# from sklearn.model_selection import GridSearchCV\n",
    "# from sklearn.linear_model import SGDRegressor\n",
    "# from sklearn.metrics import make_scorer, mean_squared_error\n",
    "\n",
    "# # Define the model\n",
    "# model = SGDRegressor()\n",
    "\n",
    "# # Define the parameter grid\n",
    "# param_grid = {\n",
    "#     'learning_rate': [ 'optimal','adaptive'],\n",
    "#     'eta0': [0.01,0.1,1,10],\n",
    "#     'max_iter': [ 100000000],\n",
    "#     'tol': [1e-3,1e-5,1e-7,]\n",
    "# }\n",
    "\n",
    "# # Define the scoring function\n",
    "# scorer = make_scorer(mean_squared_error, greater_is_better=False)\n",
    "\n",
    "# # Perform grid search\n",
    "# grid_search = GridSearchCV(estimator=model, param_grid=param_grid, scoring=scorer, cv=2)\n",
    "# grid_search.fit(X_train, y_train)\n",
    "\n",
    "# # Print the best parameters and the corresponding score\n",
    "# print(\"Best parameters found: \", grid_search.best_params_)\n",
    "# print(\"Best score: \", grid_search.best_score_)\n"
   ]
  },
  {
   "cell_type": "code",
   "execution_count": 19,
   "metadata": {},
   "outputs": [
    {
     "name": "stderr",
     "output_type": "stream",
     "text": [
      "c:\\Users\\Dell India\\AppData\\Local\\Programs\\Python\\Python311\\Lib\\site-packages\\sklearn\\linear_model\\_sag.py:349: ConvergenceWarning: The max_iter was reached which means the coef_ did not converge\n",
      "  warnings.warn(\n",
      "c:\\Users\\Dell India\\AppData\\Local\\Programs\\Python\\Python311\\Lib\\site-packages\\sklearn\\linear_model\\_sag.py:349: ConvergenceWarning: The max_iter was reached which means the coef_ did not converge\n",
      "  warnings.warn(\n",
      "c:\\Users\\Dell India\\AppData\\Local\\Programs\\Python\\Python311\\Lib\\site-packages\\sklearn\\linear_model\\_sag.py:349: ConvergenceWarning: The max_iter was reached which means the coef_ did not converge\n",
      "  warnings.warn(\n"
     ]
    },
    {
     "name": "stdout",
     "output_type": "stream",
     "text": [
      "Best Parameters: {'C': 1, 'penalty': 'l1', 'solver': 'saga'}\n",
      "Best Score: 0.7168973862159659\n"
     ]
    }
   ],
   "source": [
    "# from sklearn.model_selection import GridSearchCV\n",
    "# from sklearn.linear_model import LogisticRegression\n",
    "\n",
    "# # Define the parameter grid\n",
    "# param_grid = {\n",
    "#     'C': [0.001, 0.01, 0.1, 1, 10, 100],\n",
    "#     'penalty': ['l1', 'l2'],\n",
    "#     'solver': ['liblinear', 'saga']\n",
    "# }\n",
    "\n",
    "# # Initialize the Logistic Regression model\n",
    "# log_reg = LogisticRegression(max_iter=200000000)\n",
    "\n",
    "# # Set up the Grid Search\n",
    "# grid_search = GridSearchCV(log_reg, param_grid, cv=2, scoring='accuracy')\n",
    "\n",
    "# # Fit the model\n",
    "# grid_search.fit(X_train, y_train)\n",
    "\n",
    "# # Get the best parameters and score\n",
    "# best_params = grid_search.best_params_\n",
    "# best_score = grid_search.best_score_\n",
    "\n",
    "# print(f\"Best Parameters: {best_params}\")\n",
    "# print(f\"Best Score: {best_score}\")\n"
   ]
  },
  {
   "cell_type": "markdown",
   "metadata": {},
   "source": [
    "Noticing that XGBOOST is giving best result. Therefore moving forward with XGBOOST.(Terminated the above cell manually)"
   ]
  },
  {
   "cell_type": "code",
   "execution_count": null,
   "metadata": {
    "execution": {
     "iopub.execute_input": "2024-10-11T07:56:55.648044Z",
     "iopub.status.busy": "2024-10-11T07:56:55.646927Z",
     "iopub.status.idle": "2024-10-11T10:54:14.995787Z",
     "shell.execute_reply": "2024-10-11T10:54:14.993807Z",
     "shell.execute_reply.started": "2024-10-11T07:56:55.647991Z"
    }
   },
   "outputs": [],
   "source": [
    "# from sklearn.model_selection import GridSearchCV\n",
    "# from sklearn.metrics import mean_squared_error\n",
    "\n",
    "\n",
    "# params = {\n",
    "#     'objective': 'reg:squarederror',\n",
    "#     'eval_metric': 'rmse',\n",
    "#     'max_depth': 5,\n",
    "#     'eta': 0.1,\n",
    "#     'subsample': 0.8,\n",
    "#     'colsample_bytree': 0.8}\n",
    "# print(\"exec 1\")\n",
    "# cv_result = xgb.cv(params, dtrain, num_boost_round=1000, nfold=5, early_stopping_rounds=50, metrics=\"rmse\", seed=42)\n",
    "# best_num_boost_round = len(cv_result)\n",
    "# print(f\"Optimal number of boosting rounds: {best_num_boost_round}\")\n",
    "      \n",
    "# print(\"exec 2\")\n",
    "# param_grid = {\n",
    "#     'max_depth': [3, 5, 7],\n",
    "#     'min_child_weight': [1, 5, 10],\n",
    "#     'subsample': [0.8, 0.9, 1.0],\n",
    "#     'colsample_bytree': [0.8, 0.9, 1.0],\n",
    "#     'eta': [0.01, 0.1, 0.2]\n",
    "# }\n",
    "      \n",
    "# xgb_reg = xgb.XGBRegressor(objective='reg:squarederror', n_estimators=best_num_boost_round)\n",
    "# grid_search = GridSearchCV(xgb_reg, param_grid, scoring='neg_mean_squared_error', cv=5)\n",
    "# grid_search.fit(X, y)\n",
    "# print(\"exec 3\")\n",
    "      \n",
    "      \n",
    "# best_params = grid_search.best_params_\n",
    "# print(f\"Best parameters: {best_params}\")\n",
    "\n",
    "# # Train the model with best parameters\n",
    "# final_model = xgb.XGBRegressor(**best_params, n_estimators=best_num_boost_round)\n",
    "# final_model.fit(X, y)\n",
    "# print(\"exec 4\")\n",
    "\n",
    "\n",
    "# # Predictions and RMSE\n",
    "# y_pred = final_model.predict(X)\n",
    "# rmse = np.sqrt(mean_squared_error(y, y_pred))\n",
    "# print(f\"RMSE: {rmse}\")\n",
    "\n",
    "\n",
    "\n",
    "# # xgb_model = XGBClassifier(use_label_encoder=False, eval_metric='mlogloss')\n",
    "# # grid_search = GridSearchCV(estimator=xgb_model, param_grid=param_grid, cv=3, scoring='accuracy', verbose=1, n_jobs=-1)\n",
    "\n",
    "# # grid_search.fit(X_train, y_train)\n",
    "# # best_params = grid_search.best_params_\n",
    "# # best_score = grid_search.best_score_\n",
    "\n",
    "# # print(f\"Best parameters: {best_params}\")\n",
    "# # print(f\"Best cross-validation accuracy: {best_score * 100:.2f}%\")\n",
    "\n",
    "# # best_xgb_model = grid_search.best_estimator_\n",
    "# # best_xgb_model.fit(X_train, y_train)\n",
    "# # y_pred = best_xgb_model.predict(X_test)\n",
    "# # accuracy = accuracy_score(y_test, y_pred)\n",
    "\n",
    "# # print(f\"Test accuracy: {accuracy * 100:.2f}%\")"
   ]
  },
  {
   "cell_type": "code",
   "execution_count": null,
   "metadata": {},
   "outputs": [],
   "source": []
  }
 ],
 "metadata": {
  "kaggle": {
   "accelerator": "none",
   "dataSources": [
    {
     "datasetId": 5855944,
     "sourceId": 9599317,
     "sourceType": "datasetVersion"
    }
   ],
   "dockerImageVersionId": 30786,
   "isGpuEnabled": false,
   "isInternetEnabled": false,
   "language": "python",
   "sourceType": "notebook"
  },
  "kernelspec": {
   "display_name": "Python 3",
   "language": "python",
   "name": "python3"
  },
  "language_info": {
   "codemirror_mode": {
    "name": "ipython",
    "version": 3
   },
   "file_extension": ".py",
   "mimetype": "text/x-python",
   "name": "python",
   "nbconvert_exporter": "python",
   "pygments_lexer": "ipython3",
   "version": "3.11.1"
  }
 },
 "nbformat": 4,
 "nbformat_minor": 4
}
